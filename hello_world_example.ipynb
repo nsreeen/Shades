{
 "cells": [
  {
   "cell_type": "code",
   "execution_count": 1,
   "metadata": {
    "scrolled": true
   },
   "outputs": [],
   "source": [
    "from PIL import Image\n",
    "from shades.adjustcolors import darken_color\n",
    "from shades.config import BLACK\n",
    "from shades.ide import create_new_program, extend_program\n",
    "from shades.interpreter import interpret"
   ]
  },
  {
   "cell_type": "code",
   "execution_count": 2,
   "metadata": {
    "collapsed": true
   },
   "outputs": [],
   "source": [
    "filename = 'hello_world.png'\n",
    "starting_color = '#e0cdd7'"
   ]
  },
  {
   "cell_type": "code",
   "execution_count": 3,
   "metadata": {
    "collapsed": true
   },
   "outputs": [],
   "source": [
    "create_new_program(filename)\n",
    "\n",
    "for i in range(10): # count 10\n",
    "    extend_program(filename, starting_color)  \n",
    "\n",
    "extend_program(filename, darken_color(starting_color, 1)) # push\n",
    "\n",
    "extend_program(filename, BLACK) # toggle start ON & reset counter\n",
    "\n",
    "extend_program(filename, starting_color) # starting point for shade change\n",
    "\n",
    "extend_program(filename, darken_color(starting_color, 5)) # duplicate\n",
    "\n",
    "extend_program(filename, BLACK) # toggle start OFF & reset counter\n",
    "\n",
    "extend_program(filename, starting_color) # starting point for shade change\n",
    "\n",
    "extend_program(filename, darken_color(starting_color, 3)) # multiply\n",
    "\n",
    "extend_program(filename, BLACK) # reset counter and shade starting point\n",
    "extend_program(filename, BLACK)\n",
    "\n",
    "for i in range(4): # count 4\n",
    "    extend_program(filename, starting_color)  \n",
    "\n",
    "extend_program(filename, darken_color(starting_color, 1)) # push\n",
    "\n",
    "extend_program(filename, darken_color(starting_color, 3)) # add\n",
    "\n",
    "extend_program(filename, BLACK) # toggle start ON & reset counter\n",
    "\n",
    "extend_program(filename, starting_color) # starting point for shade change\n",
    "\n",
    "extend_program(filename, darken_color(starting_color, 6)) # print char\n",
    "\n"
   ]
  },
  {
   "cell_type": "code",
   "execution_count": 4,
   "metadata": {
    "scrolled": true
   },
   "outputs": [
    {
     "data": {
      "image/png": "[encoded data removed]",
      "text/plain": [
       "<PIL.PngImagePlugin.PngImageFile image mode=RGBA size=300x100 at 0x7F0FC005FF98>"
      ]
     },
     "execution_count": 4,
     "metadata": {},
     "output_type": "execute_result"
    }
   ],
   "source": [
    "image = Image.open(filename)\n",
    "image"
   ]
  },
  {
   "cell_type": "code",
   "execution_count": 5,
   "metadata": {
    "scrolled": false
   },
   "outputs": [
    {
     "name": "stdout",
     "output_type": "stream",
     "text": [
      "\n",
      "\n",
      "#e0cdd7\n",
      "counter: 1\n",
      "[]\n",
      "\n",
      "\n",
      "#e0cdd7\n",
      "difference: 0\n",
      "inc_counter\n",
      "counter: 2\n",
      "[]\n",
      "\n",
      "\n",
      "#e0cdd7\n",
      "difference: 0\n",
      "inc_counter\n",
      "counter: 3\n",
      "[]\n",
      "\n",
      "\n",
      "#e0cdd7\n",
      "difference: 0\n",
      "inc_counter\n",
      "counter: 4\n",
      "[]\n",
      "\n",
      "\n",
      "#e0cdd7\n",
      "difference: 0\n",
      "inc_counter\n",
      "counter: 5\n",
      "[]\n",
      "\n",
      "\n",
      "#e0cdd7\n",
      "difference: 0\n",
      "inc_counter\n",
      "counter: 6\n",
      "[]\n",
      "\n",
      "\n",
      "#e0cdd7\n",
      "difference: 0\n",
      "inc_counter\n",
      "counter: 7\n",
      "[]\n",
      "\n",
      "\n",
      "#e0cdd7\n",
      "difference: 0\n",
      "inc_counter\n",
      "counter: 8\n",
      "[]\n",
      "\n",
      "\n",
      "#e0cdd7\n",
      "difference: 0\n",
      "inc_counter\n",
      "counter: 9\n",
      "[]\n",
      "\n",
      "\n",
      "#e0cdd7\n",
      "difference: 0\n",
      "inc_counter\n",
      "counter: 10\n",
      "[]\n",
      "\n",
      "\n",
      "#d0bdc7\n",
      "difference: 1\n",
      "push\n",
      "counter: 1\n",
      "[10]\n",
      "\n",
      "\n",
      "#000000\n",
      "on_black\n",
      "counter: 1\n",
      "[10]\n",
      "\n",
      "\n",
      "#e0cdd7\n",
      "difference: -14\n",
      "counter: 1\n",
      "[10]\n",
      "\n",
      "\n",
      "#907d87\n",
      "difference: 5\n",
      "duplicate\n",
      "counter: 1\n",
      "[10, 10]\n",
      "\n",
      "\n",
      "#000000\n",
      "on_black\n",
      "counter: 1\n",
      "[10, 10]\n",
      "\n",
      "\n",
      "#e0cdd7\n",
      "difference: -14\n",
      "counter: 1\n",
      "[10, 10]\n",
      "\n",
      "\n",
      "#b09da7\n",
      "difference: 3\n",
      "multiply\n",
      "counter: 1\n",
      "[100]\n",
      "\n",
      "\n",
      "#000000\n",
      "on_black\n",
      "counter: 1\n",
      "[100]\n",
      "\n",
      "\n",
      "#000000\n",
      "on_black\n",
      "counter: 1\n",
      "[100]\n",
      "\n",
      "\n",
      "#e0cdd7\n",
      "difference: -14\n",
      "counter: 1\n",
      "[100]\n",
      "\n",
      "\n",
      "#e0cdd7\n",
      "difference: 0\n",
      "inc_counter\n",
      "counter: 2\n",
      "[100]\n",
      "\n",
      "\n",
      "#e0cdd7\n",
      "difference: 0\n",
      "inc_counter\n",
      "counter: 3\n",
      "[100]\n",
      "\n",
      "\n",
      "#e0cdd7\n",
      "difference: 0\n",
      "inc_counter\n",
      "counter: 4\n",
      "[100]\n",
      "\n",
      "\n",
      "#d0bdc7\n",
      "difference: 1\n",
      "push\n",
      "counter: 1\n",
      "[100, 4]\n",
      "\n",
      "\n",
      "#b09da7\n",
      "difference: 2\n",
      "add\n",
      "counter: 1\n",
      "[104]\n",
      "\n",
      "\n",
      "#000000\n",
      "on_black\n",
      "counter: 1\n",
      "[104]\n",
      "\n",
      "\n",
      "#e0cdd7\n",
      "difference: -14\n",
      "counter: 1\n",
      "[104]\n",
      "\n",
      "\n",
      "#806d77\n",
      "difference: 6\n",
      "char_out\n",
      "h\n",
      "counter: 1\n",
      "[104]\n",
      "\n",
      "\n",
      "#ffffff\n"
     ]
    },
    {
     "data": {
      "text/plain": [
       "[]"
      ]
     },
     "execution_count": 5,
     "metadata": {},
     "output_type": "execute_result"
    }
   ],
   "source": [
    "interpret(image)"
   ]
  },
  {
   "cell_type": "code",
   "execution_count": 6,
   "metadata": {},
   "outputs": [
    {
     "data": {
      "text/plain": [
       "'o'"
      ]
     },
     "execution_count": 6,
     "metadata": {},
     "output_type": "execute_result"
    }
   ],
   "source": [
    "\n",
    "\"\"\"\n",
    "h 104\n",
    "e 101\n",
    "l 108\n",
    "l 108\n",
    "o 111\n",
    "w\n",
    "o\n",
    "r\n",
    "l\n",
    "d\n",
    "\"\"\"\n",
    "\n",
    "chr(111)"
   ]
  },
  {
   "cell_type": "code",
   "execution_count": null,
   "metadata": {
    "collapsed": true
   },
   "outputs": [],
   "source": []
  },
  {
   "cell_type": "code",
   "execution_count": 7,
   "metadata": {},
   "outputs": [
    {
     "data": {
      "text/plain": [
       "'#907d87'"
      ]
     },
     "execution_count": 7,
     "metadata": {},
     "output_type": "execute_result"
    }
   ],
   "source": [
    "darken_color(starting_color, 5)"
   ]
  },
  {
   "cell_type": "code",
   "execution_count": null,
   "metadata": {
    "collapsed": true
   },
   "outputs": [],
   "source": []
  },
  {
   "cell_type": "code",
   "execution_count": null,
   "metadata": {
    "collapsed": true
   },
   "outputs": [],
   "source": []
  },
  {
   "cell_type": "code",
   "execution_count": null,
   "metadata": {
    "collapsed": true
   },
   "outputs": [],
   "source": []
  }
 ],
 "metadata": {
  "kernelspec": {
   "display_name": "Python 3",
   "language": "python",
   "name": "python3"
  },
  "language_info": {
   "codemirror_mode": {
    "name": "ipython",
    "version": 3
   },
   "file_extension": ".py",
   "mimetype": "text/x-python",
   "name": "python",
   "nbconvert_exporter": "python",
   "pygments_lexer": "ipython3",
   "version": "3.5.2"
  }
 },
 "nbformat": 4,
 "nbformat_minor": 2
}
