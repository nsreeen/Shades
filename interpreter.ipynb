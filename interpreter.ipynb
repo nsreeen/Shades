{
 "cells": [
  {
   "cell_type": "code",
   "execution_count": 1,
   "metadata": {
    "collapsed": true
   },
   "outputs": [],
   "source": [
    "from collections import namedtuple\n",
    "from os import path\n",
    "from PIL import Image, ImageDraw\n",
    "from circles.adjustcolors import darken_color, lighten_color\n",
    "from circles.conversions import to_hexcolor, to_rgba\n",
    "\n",
    "# stuff that will be in a global config\n",
    "\n",
    "width = 300\n",
    "height = 100\n",
    "filename = \"current_program.png\" \n",
    "\n",
    "BLACK = '#000000'\n",
    "WHITE = '#ffffff'"
   ]
  },
  {
   "cell_type": "code",
   "execution_count": 58,
   "metadata": {},
   "outputs": [],
   "source": [
    "# interpreter\n",
    "stack = []\n",
    "counter = 0\n",
    "star = False\n",
    "\n",
    "def reset_counter():\n",
    "    global counter\n",
    "    counter = 0\n",
    "\n",
    "def inc_counter():\n",
    "    global counter\n",
    "    counter = counter + 1\n",
    "\n",
    "def get_difference(a, b):\n",
    "    if not a or not b:\n",
    "        return 0\n",
    "    (r_a, _, _, _) = to_rgba(a)\n",
    "    (r_b, _, _, _) = to_rgba(b)\n",
    "    return (r_a - r_b) / 16\n",
    "\n",
    "def push():\n",
    "    global counter\n",
    "    stack.append(counter) \n",
    "    reset_counter()\n",
    "    \n",
    "def number_out():\n",
    "    print(str(stack[-1]))\n",
    "\n",
    "def toggle_star():\n",
    "    global star\n",
    "    star = not star\n",
    "\n",
    "def evaluate(previous, current):\n",
    "    if not current:\n",
    "        return None\n",
    "    \n",
    "    if not previous:\n",
    "        return inc_counter\n",
    "    \n",
    "    if current == BLACK:\n",
    "        return toggle_star\n",
    "    if current == WHITE:\n",
    "        return reset_counter\n",
    "    \n",
    "    difference = int(abs(get_difference(previous, current))) # todo not abs\n",
    "    if difference == 0:\n",
    "        return inc_counter\n",
    "    if difference == 1 and star == False:\n",
    "        return push\n",
    "    if difference == 6 and star == False:\n",
    "        return number_out\n",
    "\n",
    "def interpret(image):\n",
    "    instructions = []\n",
    "    i = 0\n",
    "    previous = None\n",
    "    while i < image.size[1]:\n",
    "        current_rgb = image.getpixel((0, i))\n",
    "        current_hex = to_hexcolor(current_rgb)\n",
    "        global counter\n",
    "        instruction = evaluate(previous, current_hex)\n",
    "        if instruction != None:\n",
    "            instructions.append(instruction)\n",
    "        \n",
    "        previous = current_hex\n",
    "        i += 1\n",
    "    return instructions\n",
    "    \n",
    "\n",
    "def execute(instructions):\n",
    "    for instruction in instructions:\n",
    "        instruction()\n"
   ]
  },
  {
   "cell_type": "code",
   "execution_count": 59,
   "metadata": {
    "scrolled": true
   },
   "outputs": [
    {
     "name": "stdout",
     "output_type": "stream",
     "text": [
      "5\n"
     ]
    }
   ],
   "source": [
    "image = Image.open(filename)\n",
    "instructions = interpret(image)\n",
    "execute(instructions)"
   ]
  },
  {
   "cell_type": "code",
   "execution_count": 60,
   "metadata": {},
   "outputs": [
    {
     "data": {
      "image/png": "[encoded data removed]",
      "text/plain": [
       "<PIL.PngImagePlugin.PngImageFile image mode=RGBA size=500x100 at 0x7F7F8AEA0780>"
      ]
     },
     "execution_count": 60,
     "metadata": {},
     "output_type": "execute_result"
    }
   ],
   "source": [
    "image"
   ]
  },
  {
   "cell_type": "code",
   "execution_count": null,
   "metadata": {
    "collapsed": true
   },
   "outputs": [],
   "source": [
    "\"\"\"\n",
    "Next steps:\n",
    "- make git repo and start working in commits\n",
    "- move out common image stuff to a module + tests?\n",
    "- move interpreter to own module + tests\n",
    "- move 'ide' to own module + tests\n",
    "- finish writing interpreter with tests\n",
    "- make jupyter notebook eg\n",
    "\"\"\""
   ]
  }
 ],
 "metadata": {
  "kernelspec": {
   "display_name": "Python 3",
   "language": "python",
   "name": "python3"
  },
  "language_info": {
   "codemirror_mode": {
    "name": "ipython",
    "version": 3
   },
   "file_extension": ".py",
   "mimetype": "text/x-python",
   "name": "python",
   "nbconvert_exporter": "python",
   "pygments_lexer": "ipython3",
   "version": "3.5.2"
  }
 },
 "nbformat": 4,
 "nbformat_minor": 2
}
