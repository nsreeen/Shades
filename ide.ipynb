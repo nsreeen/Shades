{
 "cells": [
  {
   "cell_type": "code",
   "execution_count": 31,
   "metadata": {
    "collapsed": true
   },
   "outputs": [],
   "source": [
    "from collections import namedtuple\n",
    "from os import path\n",
    "from PIL import Image, ImageDraw\n",
    "from circles.adjustcolors import darken_color, lighten_color\n",
    "from circles.conversions import to_hexcolor, to_rgba\n",
    "\n",
    "# stuff that will be in a global config\n",
    "\n",
    "width = 300\n",
    "height = 100\n",
    "filename = \"current_program.png\" \n",
    "\n",
    "BLACK = '#000000'\n",
    "WHITE = '#ffffff'\n"
   ]
  },
  {
   "cell_type": "code",
   "execution_count": 32,
   "metadata": {},
   "outputs": [],
   "source": [
    "class DarkenCommand():\n",
    "    def __init__(self, steps):\n",
    "        self.steps = steps\n",
    "\n",
    "class LightenCommand():\n",
    "    def __init__(self, steps):\n",
    "        self.steps = steps\n",
    "        \n",
    "class ColorCommand():\n",
    "    def __init__(self, color):\n",
    "        self.color = color\n",
    "\n",
    "class DeleteCommand():\n",
    "    def __init__(self, color):\n",
    "        self.color = color\n",
    "\n",
    "class RepeatCommand():\n",
    "    def __init__(self, color):\n",
    "        self.color = color\n"
   ]
  },
  {
   "cell_type": "code",
   "execution_count": 39,
   "metadata": {},
   "outputs": [],
   "source": [
    "\n",
    "def get_first_white_height(image):\n",
    "    current = 0\n",
    "    while current < image.size[1]:\n",
    "        pixel = image.getpixel((0, current))\n",
    "        if to_hexcolor(pixel) == WHITE:\n",
    "            return current\n",
    "        current += 1\n",
    "    return current\n",
    "\n",
    "def extend_program(command):\n",
    "    if not path.exists(filename):\n",
    "        image = create_and_save_new_image()\n",
    "    image = Image.open(filename)\n",
    "    draw = ImageDraw.Draw(image)\n",
    "\n",
    "    # find first point that is white \n",
    "    target = get_first_white_height(image)\n",
    "    \n",
    "    # todo what if its the first color being added\n",
    "    previous_color = image.getpixel((0, target-1)) if (target > 0) else None\n",
    "    new_color = get_new_color(previous_color, command)\n",
    "\n",
    "    draw.line((0, target, width, target), fill = new_color)\n",
    "    image.save(filename, \"PNG\")\n",
    "    \n",
    "    \n",
    "def get_new_color(previous_color, command):\n",
    "    if isinstance(command, DarkenCommand) and previous_color:\n",
    "        return darken_color(previous_color, command.steps)\n",
    "    elif isinstance(command, LightenCommand) and previous_color:\n",
    "        return lighten_color(previous_color, command.steps)\n",
    "    elif isinstance(command, ColorCommand):\n",
    "        return command.color\n",
    "    print('command not recognised')\n",
    "    return None\n",
    "\n",
    "def create_and_save_new_image():\n",
    "    image = Image.new('RGBA', (width, height), color=WHITE)\n",
    "    draw = ImageDraw.Draw(image)\n",
    "    image.save(filename, \"PNG\")\n",
    "    return image\n",
    "\n",
    "def get_image():\n",
    "    if path.exists(filename):\n",
    "        image = Image.open(filename)\n",
    "        return image\n"
   ]
  },
  {
   "cell_type": "code",
   "execution_count": 40,
   "metadata": {
    "collapsed": true
   },
   "outputs": [],
   "source": [
    "\n",
    "color = '#bfe2ca'\n",
    "for i in range(5):\n",
    "    extend_program(ColorCommand(color))\n",
    "for i in range(1):\n",
    "    extend_program(ColorCommand(darken_color(color, 1)))\n",
    "for i in range(1):\n",
    "    extend_program(ColorCommand(darken_color(color, 7)))                            "
   ]
  },
  {
   "cell_type": "code",
   "execution_count": 41,
   "metadata": {},
   "outputs": [
    {
     "data": {
      "image/png": "[encoded data removed]",
      "text/plain": [
       "<PIL.PngImagePlugin.PngImageFile image mode=RGBA size=500x100 at 0x7F68BC030B38>"
      ]
     },
     "execution_count": 41,
     "metadata": {},
     "output_type": "execute_result"
    }
   ],
   "source": [
    "get_image()"
   ]
  },
  {
   "cell_type": "code",
   "execution_count": null,
   "metadata": {
    "collapsed": true
   },
   "outputs": [],
   "source": []
  }
 ],
 "metadata": {
  "kernelspec": {
   "display_name": "Python 3",
   "language": "python",
   "name": "python3"
  },
  "language_info": {
   "codemirror_mode": {
    "name": "ipython",
    "version": 3
   },
   "file_extension": ".py",
   "mimetype": "text/x-python",
   "name": "python",
   "nbconvert_exporter": "python",
   "pygments_lexer": "ipython3",
   "version": "3.5.2"
  }
 },
 "nbformat": 4,
 "nbformat_minor": 2
}
